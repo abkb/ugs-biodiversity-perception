{
 "cells": [
  {
   "cell_type": "code",
   "execution_count": 3,
   "id": "50e7f678",
   "metadata": {},
   "outputs": [],
   "source": [
    "import numpy as np\n",
    "import scipy as scipy\n",
    "from scipy import stats "
   ]
  },
  {
   "cell_type": "code",
   "execution_count": 38,
   "id": "359bae5b",
   "metadata": {},
   "outputs": [],
   "source": [
    "import pandas as pd\n",
    "data1= pd.read_excel(\"/Users/akibria/Desktop/Python_learning/T-test/data file.xlsx\")\n",
    "data1.head()\n",
    "df= data1[\"Biodiversity conservation\"]\n"
   ]
  },
  {
   "cell_type": "code",
   "execution_count": 31,
   "id": "ee37216b",
   "metadata": {},
   "outputs": [
    {
     "data": {
      "text/plain": [
       "0      4\n",
       "1      5\n",
       "2      4\n",
       "3      4\n",
       "4      4\n",
       "      ..\n",
       "383    5\n",
       "384    4\n",
       "385    5\n",
       "386    2\n",
       "387    4\n",
       "Name: female, Length: 388, dtype: int64"
      ]
     },
     "execution_count": 31,
     "metadata": {},
     "output_type": "execute_result"
    }
   ],
   "source": [
    "data1[\"female\"]"
   ]
  },
  {
   "cell_type": "code",
   "execution_count": 40,
   "id": "4d1ff1dd",
   "metadata": {},
   "outputs": [
    {
     "data": {
      "text/plain": [
       "TtestResult(statistic=array([20.83975214, 18.76863869, 26.48494271, 32.31287998, 16.03843041,\n",
       "       15.70699992, 16.60286388]), pvalue=array([3.74185275e-071, 7.88159435e-061, 1.44867121e-099, 4.08359486e-128,\n",
       "       1.34110600e-047, 4.89277864e-046, 2.76571747e-050]), df=array([538, 538, 538, 538, 538, 538, 538]))"
      ]
     },
     "execution_count": 40,
     "metadata": {},
     "output_type": "execute_result"
    }
   ],
   "source": [
    "stats.ttest_1samp(data1, 3)"
   ]
  },
  {
   "cell_type": "code",
   "execution_count": null,
   "id": "68d94038",
   "metadata": {},
   "outputs": [],
   "source": []
  }
 ],
 "metadata": {
  "kernelspec": {
   "display_name": "Python 3 (ipykernel)",
   "language": "python",
   "name": "python3"
  },
  "language_info": {
   "codemirror_mode": {
    "name": "ipython",
    "version": 3
   },
   "file_extension": ".py",
   "mimetype": "text/x-python",
   "name": "python",
   "nbconvert_exporter": "python",
   "pygments_lexer": "ipython3",
   "version": "3.10.9"
  }
 },
 "nbformat": 4,
 "nbformat_minor": 5
}
